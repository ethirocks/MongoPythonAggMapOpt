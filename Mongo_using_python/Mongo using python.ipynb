{
 "cells": [
  {
   "cell_type": "code",
   "execution_count": 1,
   "metadata": {},
   "outputs": [],
   "source": [
    "import csv\n",
    "import json\n",
    "import pandas as pd\n",
    "import sys, getopt, pprint\n",
    "from pymongo import MongoClient\n",
    "import time\n",
    "from bson.code import Code\n",
    "import subprocess\n",
    "import multiprocessing\n",
    "from multiprocessing import Pool\n",
    "import x\n",
    "import threading "
   ]
  },
  {
   "cell_type": "code",
   "execution_count": 2,
   "metadata": {},
   "outputs": [],
   "source": [
    "csvfile = open('C:/Users/ETHIRAJ/Desktop/Mongo_using_python/data.csv', 'r')\n",
    "reader = csv.DictReader( csvfile )\n",
    "mongo_client=MongoClient() "
   ]
  },
  {
   "cell_type": "code",
   "execution_count": 3,
   "metadata": {},
   "outputs": [],
   "source": [
    "db=mongo_client.mydb\n",
    "header= [ \"InvoiceNo\",\"StockCode\",\"Description\",\"Quantity\",\"InvoiceDate\",\"UnitPrice\",\"CustomerID\",\"Country\"]"
   ]
  },
  {
   "cell_type": "code",
   "execution_count": 4,
   "metadata": {},
   "outputs": [
    {
     "name": "stderr",
     "output_type": "stream",
     "text": [
      "C:\\Users\\ETHIRAJ\\Anaconda3\\lib\\site-packages\\ipykernel_launcher.py:7: DeprecationWarning: insert is deprecated. Use insert_one or insert_many instead.\n",
      "  import sys\n"
     ]
    }
   ],
   "source": [
    "i=0\n",
    "for each in reader:\n",
    "    row={}\n",
    "    for field in header:\n",
    "        row[field]=each[field]\n",
    "    \n",
    "    db.fivek.insert(row)\n",
    "    i=i+1\n",
    "    if(i >= 5000):\n",
    "        break"
   ]
  },
  {
   "cell_type": "code",
   "execution_count": 5,
   "metadata": {},
   "outputs": [
    {
     "name": "stderr",
     "output_type": "stream",
     "text": [
      "C:\\Users\\ETHIRAJ\\Anaconda3\\lib\\site-packages\\ipykernel_launcher.py:7: DeprecationWarning: insert is deprecated. Use insert_one or insert_many instead.\n",
      "  import sys\n"
     ]
    }
   ],
   "source": [
    "i=0\n",
    "for each in reader:\n",
    "    row={}\n",
    "    for field in header:\n",
    "        row[field]=each[field]\n",
    "    \n",
    "    db.tenk.insert(row)\n",
    "    i=i+1\n",
    "    if(i >= 10000):\n",
    "        break"
   ]
  },
  {
   "cell_type": "code",
   "execution_count": 6,
   "metadata": {},
   "outputs": [
    {
     "name": "stderr",
     "output_type": "stream",
     "text": [
      "C:\\Users\\ETHIRAJ\\Anaconda3\\lib\\site-packages\\ipykernel_launcher.py:7: DeprecationWarning: insert is deprecated. Use insert_one or insert_many instead.\n",
      "  import sys\n"
     ]
    }
   ],
   "source": [
    "i=0\n",
    "for each in reader:\n",
    "    row={}\n",
    "    for field in header:\n",
    "        row[field]=each[field]\n",
    "    \n",
    "    db.twentyk.insert(row)\n",
    "    i=i+1\n",
    "    if(i >= 20000):\n",
    "        break"
   ]
  },
  {
   "cell_type": "code",
   "execution_count": 7,
   "metadata": {},
   "outputs": [
    {
     "name": "stderr",
     "output_type": "stream",
     "text": [
      "C:\\Users\\ETHIRAJ\\Anaconda3\\lib\\site-packages\\ipykernel_launcher.py:7: DeprecationWarning: insert is deprecated. Use insert_one or insert_many instead.\n",
      "  import sys\n"
     ]
    }
   ],
   "source": [
    "i=0\n",
    "for each in reader:\n",
    "    row={}\n",
    "    for field in header:\n",
    "        row[field]=each[field]\n",
    "    \n",
    "    db.fiftyk.insert(row)\n",
    "    i=i+1\n",
    "    if(i >= 50000):\n",
    "        break"
   ]
  },
  {
   "cell_type": "code",
   "execution_count": 8,
   "metadata": {},
   "outputs": [
    {
     "name": "stdout",
     "output_type": "stream",
     "text": [
      "--- 0.2230229377746582 seconds ---\n"
     ]
    }
   ],
   "source": [
    "start_time = time.time()\n",
    "db.fivek.aggregate([\n",
    "   { \"$match\": { \"Country\": \"United Kingdom\" } },\n",
    "   { \"$group\": { \"_id\": \"$CustomerID\", \"total\": { \"$sum\": 1} } }\n",
    "])\n",
    "print(\"--- %s seconds ---\" % (time.time() - start_time))"
   ]
  },
  {
   "cell_type": "code",
   "execution_count": 9,
   "metadata": {},
   "outputs": [
    {
     "name": "stdout",
     "output_type": "stream",
     "text": [
      "--- 0.4118969440460205 seconds ---\n"
     ]
    }
   ],
   "source": [
    "start_time = time.time()\n",
    "db.tenk.aggregate([\n",
    "   { \"$match\": { \"Country\": \"United Kingdom\" } },\n",
    "   { \"$group\": { \"_id\": \"$CustomerID\", \"total\": { \"$sum\": 1} } }\n",
    "])\n",
    "print(\"--- %s seconds ---\" % (time.time() - start_time))"
   ]
  },
  {
   "cell_type": "code",
   "execution_count": 10,
   "metadata": {},
   "outputs": [
    {
     "name": "stdout",
     "output_type": "stream",
     "text": [
      "--- 0.8419017791748047 seconds ---\n"
     ]
    }
   ],
   "source": [
    "start_time = time.time()\n",
    "db.twentyk.aggregate([\n",
    "   { \"$match\": { \"Country\": \"United Kingdom\" } },\n",
    "   { \"$group\": { \"_id\": \"$CustomerID\", \"total\": { \"$sum\": 1} } }\n",
    "])\n",
    "print(\"--- %s seconds ---\" % (time.time() - start_time))"
   ]
  },
  {
   "cell_type": "code",
   "execution_count": 11,
   "metadata": {},
   "outputs": [
    {
     "name": "stdout",
     "output_type": "stream",
     "text": [
      "--- 2.0131232738494873 seconds ---\n"
     ]
    }
   ],
   "source": [
    "start_time = time.time()\n",
    "db.fiftyk.aggregate([\n",
    "   { \"$match\": { \"Country\": \"United Kingdom\" } },\n",
    "   { \"$group\": { \"_id\": \"$CustomerID\", \"total\": { \"$sum\": 1} } }\n",
    "])\n",
    "print(\"--- %s seconds ---\" % (time.time() - start_time))"
   ]
  },
  {
   "cell_type": "code",
   "execution_count": 12,
   "metadata": {},
   "outputs": [
    {
     "name": "stdout",
     "output_type": "stream",
     "text": [
      "--- 1.4161138534545898 seconds ---\n"
     ]
    }
   ],
   "source": [
    "start_time = time.time()\n",
    "\n",
    "map = Code(\"function () {\"\n",
    "            \"    emit(this.CustomerID, 1);\"\n",
    "            \"}\")\n",
    "reduce = Code(\"function (key, values) {\"\n",
    "              \"  var total = 0;\"\n",
    "              \"  for (var i = 0; i < values.length; i++) {\"\n",
    "              \"    total += values[i];\"\n",
    "              \"  }\"\n",
    "              \"  return total;\"\n",
    "              \"}\")\n",
    "\n",
    "result = db.fivek.map_reduce(map, reduce, \"order_totals\", query={\"Country\": \"United Kingdom\"})\n",
    "\n",
    "print(\"--- %s seconds ---\" % (time.time() - start_time))"
   ]
  },
  {
   "cell_type": "code",
   "execution_count": 13,
   "metadata": {},
   "outputs": [
    {
     "name": "stdout",
     "output_type": "stream",
     "text": [
      "--- 2.553413152694702 seconds ---\n"
     ]
    }
   ],
   "source": [
    "start_time = time.time()\n",
    "\n",
    "map = Code(\"function () {\"\n",
    "            \"    emit(this.CustomerID, 1);\"\n",
    "            \"}\")\n",
    "reduce = Code(\"function (key, values) {\"\n",
    "              \"  var total = 0;\"\n",
    "              \"  for (var i = 0; i < values.length; i++) {\"\n",
    "              \"    total += values[i];\"\n",
    "              \"  }\"\n",
    "              \"  return total;\"\n",
    "              \"}\")\n",
    "\n",
    "result = db.tenk.map_reduce(map, reduce, \"order_totals\", query={\"Country\": \"United Kingdom\"})\n",
    "\n",
    "print(\"--- %s seconds ---\" % (time.time() - start_time))"
   ]
  },
  {
   "cell_type": "code",
   "execution_count": 14,
   "metadata": {},
   "outputs": [
    {
     "name": "stdout",
     "output_type": "stream",
     "text": [
      "--- 5.240772247314453 seconds ---\n"
     ]
    }
   ],
   "source": [
    "start_time = time.time()\n",
    "\n",
    "map = Code(\"function () {\"\n",
    "            \"    emit(this.CustomerID, 1);\"\n",
    "            \"}\")\n",
    "reduce = Code(\"function (key, values) {\"\n",
    "              \"  var total = 0;\"\n",
    "              \"  for (var i = 0; i < values.length; i++) {\"\n",
    "              \"    total += values[i];\"\n",
    "              \"  }\"\n",
    "              \"  return total;\"\n",
    "              \"}\")\n",
    "\n",
    "result = db.twentyk.map_reduce(map, reduce, \"order_totals\", query={\"Country\": \"United Kingdom\"})\n",
    "\n",
    "print(\"--- %s seconds ---\" % (time.time() - start_time))"
   ]
  },
  {
   "cell_type": "code",
   "execution_count": 15,
   "metadata": {},
   "outputs": [
    {
     "name": "stdout",
     "output_type": "stream",
     "text": [
      "--- 12.102808475494385 seconds ---\n"
     ]
    }
   ],
   "source": [
    "start_time = time.time()\n",
    "\n",
    "map = Code(\"function () {\"\n",
    "            \"    emit(this.CustomerID, 1);\"\n",
    "            \"}\")\n",
    "reduce = Code(\"function (key, values) {\"\n",
    "              \"  var total = 0;\"\n",
    "              \"  for (var i = 0; i < values.length; i++) {\"\n",
    "              \"    total += values[i];\"\n",
    "              \"  }\"\n",
    "              \"  return total;\"\n",
    "              \"}\")\n",
    "\n",
    "result = db.fiftyk.map_reduce(map, reduce, \"order_totals\", query={\"Country\": \"United Kingdom\"})\n",
    "\n",
    "print(\"--- %s seconds ---\" % (time.time() - start_time))"
   ]
  },
  {
   "cell_type": "code",
   "execution_count": 16,
   "metadata": {},
   "outputs": [
    {
     "name": "stdout",
     "output_type": "stream",
     "text": [
      "--- 0.3959321975708008 seconds ---\n"
     ]
    }
   ],
   "source": [
    "#5K\n",
    "start_time = time.time()\n",
    "if __name__ == '__main__':\n",
    "    t1 = threading.Thread(target=x.xyz, args=(625,0,)) \n",
    "    t2 = threading.Thread(target=x.xyz, args=(1250,625,))\n",
    "    t3 = threading.Thread(target=x.xyz, args=(1875,1250,)) \n",
    "    t4 = threading.Thread(target=x.xyz, args=(2500,1875,))\n",
    "    t5 = threading.Thread(target=x.xyz, args=(3125,2500,)) \n",
    "    t6 = threading.Thread(target=x.xyz, args=(3750,3125,)) \n",
    "    t7 = threading.Thread(target=x.xyz, args=(4375,3750,)) \n",
    "    t8 = threading.Thread(target=x.xyz, args=(5000,4375,)) \n",
    "  \n",
    "    t1.start() \n",
    "    t2.start() \n",
    "    t3.start() \n",
    "    t4.start()\n",
    "    t5.start()\n",
    "    t6.start()\n",
    "    t7.start()\n",
    "    t8.start()\n",
    "    \n",
    "  \n",
    "    t1.join() \n",
    "    t2.join()\n",
    "    t3.join()\n",
    "    t4.join()\n",
    "    t5.join()\n",
    "    t6.join()\n",
    "    t7.join()\n",
    "    t8.join()\n",
    "\n",
    "print(\"--- %s seconds ---\" % (time.time() - start_time))"
   ]
  },
  {
   "cell_type": "code",
   "execution_count": 17,
   "metadata": {},
   "outputs": [
    {
     "name": "stdout",
     "output_type": "stream",
     "text": [
      "--- 0.38675689697265625 seconds ---\n"
     ]
    }
   ],
   "source": [
    "#10K\n",
    "start_time = time.time()\n",
    "if __name__ == '__main__':\n",
    "    t1 = threading.Thread(target=x.xyz, args=(1250,0,)) \n",
    "    t2 = threading.Thread(target=x.xyz, args=(2500,1250,))\n",
    "    t3 = threading.Thread(target=x.xyz, args=(3750,2500,)) \n",
    "    t4 = threading.Thread(target=x.xyz, args=(5000,3750,))\n",
    "    t5 = threading.Thread(target=x.xyz, args=(6250,5000,)) \n",
    "    t6 = threading.Thread(target=x.xyz, args=(7500,6250,)) \n",
    "    t7 = threading.Thread(target=x.xyz, args=(8750,7500,)) \n",
    "    t8 = threading.Thread(target=x.xyz, args=(10000,8750,)) \n",
    "  \n",
    "    t1.start() \n",
    "    t2.start() \n",
    "    t3.start() \n",
    "    t4.start()\n",
    "    t5.start()\n",
    "    t6.start()\n",
    "    t7.start()\n",
    "    t8.start()\n",
    "    \n",
    "  \n",
    "    t1.join() \n",
    "    t2.join()\n",
    "    t3.join()\n",
    "    t4.join()\n",
    "    t5.join()\n",
    "    t6.join()\n",
    "    t7.join()\n",
    "    t8.join()\n",
    "\n",
    "print(\"--- %s seconds ---\" % (time.time() - start_time))"
   ]
  },
  {
   "cell_type": "code",
   "execution_count": 18,
   "metadata": {},
   "outputs": [
    {
     "name": "stdout",
     "output_type": "stream",
     "text": [
      "--- 0.3839728832244873 seconds ---\n"
     ]
    }
   ],
   "source": [
    "#20K\n",
    "start_time = time.time()\n",
    "if __name__ == '__main__':\n",
    "    t1 = threading.Thread(target=x.xyz, args=(2500,0,)) \n",
    "    t2 = threading.Thread(target=x.xyz, args=(5000,2500,))\n",
    "    t3 = threading.Thread(target=x.xyz, args=(7500,5000,)) \n",
    "    t4 = threading.Thread(target=x.xyz, args=(10000,7500,))\n",
    "    t5 = threading.Thread(target=x.xyz, args=(12500,10000,)) \n",
    "    t6 = threading.Thread(target=x.xyz, args=(15000,12500,)) \n",
    "    t7 = threading.Thread(target=x.xyz, args=(17500,15000,)) \n",
    "    t8 = threading.Thread(target=x.xyz, args=(20000,17500,)) \n",
    "  \n",
    "    t1.start() \n",
    "    t2.start() \n",
    "    t3.start() \n",
    "    t4.start()\n",
    "    t5.start()\n",
    "    t6.start()\n",
    "    t7.start()\n",
    "    t8.start()\n",
    "    \n",
    "  \n",
    "    t1.join() \n",
    "    t2.join()\n",
    "    t3.join()\n",
    "    t4.join()\n",
    "    t5.join()\n",
    "    t6.join()\n",
    "    t7.join()\n",
    "    t8.join()\n",
    "\n",
    "print(\"--- %s seconds ---\" % (time.time() - start_time))"
   ]
  },
  {
   "cell_type": "code",
   "execution_count": 19,
   "metadata": {},
   "outputs": [
    {
     "name": "stdout",
     "output_type": "stream",
     "text": [
      "--- 0.4078521728515625 seconds ---\n"
     ]
    }
   ],
   "source": [
    "#50K\n",
    "start_time = time.time()\n",
    "if __name__ == '__main__':\n",
    "    t1 = threading.Thread(target=x.xyz, args=(6250,0,)) \n",
    "    t2 = threading.Thread(target=x.xyz, args=(12500,6250,))\n",
    "    t3 = threading.Thread(target=x.xyz, args=(18750,12500,)) \n",
    "    t4 = threading.Thread(target=x.xyz, args=(25000,18750,))\n",
    "    t5 = threading.Thread(target=x.xyz, args=(31250,25000,)) \n",
    "    t6 = threading.Thread(target=x.xyz, args=(37500,31250,)) \n",
    "    t7 = threading.Thread(target=x.xyz, args=(43750,37500,)) \n",
    "    t8 = threading.Thread(target=x.xyz, args=(50000,43750,)) \n",
    "  \n",
    "    t1.start() \n",
    "    t2.start() \n",
    "    t3.start() \n",
    "    t4.start()\n",
    "    t5.start()\n",
    "    t6.start()\n",
    "    t7.start()\n",
    "    t8.start()\n",
    "    \n",
    "  \n",
    "    t1.join() \n",
    "    t2.join()\n",
    "    t3.join()\n",
    "    t4.join()\n",
    "    t5.join()\n",
    "    t6.join()\n",
    "    t7.join()\n",
    "    t8.join()\n",
    "\n",
    "print(\"--- %s seconds ---\" % (time.time() - start_time))"
   ]
  },
  {
   "cell_type": "code",
   "execution_count": null,
   "metadata": {},
   "outputs": [],
   "source": []
  }
 ],
 "metadata": {
  "kernelspec": {
   "display_name": "Python 3",
   "language": "python",
   "name": "python3"
  },
  "language_info": {
   "codemirror_mode": {
    "name": "ipython",
    "version": 3
   },
   "file_extension": ".py",
   "mimetype": "text/x-python",
   "name": "python",
   "nbconvert_exporter": "python",
   "pygments_lexer": "ipython3",
   "version": "3.7.1"
  }
 },
 "nbformat": 4,
 "nbformat_minor": 2
}
